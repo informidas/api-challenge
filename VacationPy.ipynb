{
 "cells": [
  {
   "cell_type": "markdown",
   "metadata": {},
   "source": [
    "# VacationPy\n",
    "----\n",
    "\n",
    "#### Note\n",
    "* Instructions have been included for each segment. You do not have to follow them exactly, but they are included to help you think through the steps."
   ]
  },
  {
   "cell_type": "code",
   "execution_count": 1,
   "metadata": {},
   "outputs": [],
   "source": [
    "# Dependencies and Setup\n",
    "import matplotlib.pyplot as plt\n",
    "import pandas as pd\n",
    "import numpy as np\n",
    "import requests\n",
    "import gmaps\n",
    "import os\n",
    "\n",
    "# Import API key\n",
    "from config import g_key\n",
    "\n",
    "# Access maps with unique API key\n",
    "gmaps.configure(api_key=g_key)\n",
    "\n",
    "#base url needed for the api call\n",
    "base_url = \"https://maps.googleapis.com/maps/api/place/nearbysearch/json\""
   ]
  },
  {
   "cell_type": "markdown",
   "metadata": {},
   "source": [
    "### Store Part I results into DataFrame\n",
    "* Load the csv exported in Part I to a DataFrame"
   ]
  },
  {
   "cell_type": "code",
   "execution_count": 2,
   "metadata": {},
   "outputs": [
    {
     "data": {
      "text/html": [
       "<div>\n",
       "<style scoped>\n",
       "    .dataframe tbody tr th:only-of-type {\n",
       "        vertical-align: middle;\n",
       "    }\n",
       "\n",
       "    .dataframe tbody tr th {\n",
       "        vertical-align: top;\n",
       "    }\n",
       "\n",
       "    .dataframe thead th {\n",
       "        text-align: right;\n",
       "    }\n",
       "</style>\n",
       "<table border=\"1\" class=\"dataframe\">\n",
       "  <thead>\n",
       "    <tr style=\"text-align: right;\">\n",
       "      <th></th>\n",
       "      <th>city</th>\n",
       "      <th>lat</th>\n",
       "      <th>lon</th>\n",
       "      <th>temp</th>\n",
       "      <th>humidity</th>\n",
       "      <th>clouds</th>\n",
       "      <th>windspeed</th>\n",
       "      <th>temp_max</th>\n",
       "      <th>temp (F)</th>\n",
       "      <th>temp_max (F)</th>\n",
       "    </tr>\n",
       "  </thead>\n",
       "  <tbody>\n",
       "    <tr>\n",
       "      <th>0</th>\n",
       "      <td>vaitape</td>\n",
       "      <td>-16.52</td>\n",
       "      <td>-151.75</td>\n",
       "      <td>28.25</td>\n",
       "      <td>73</td>\n",
       "      <td>17</td>\n",
       "      <td>3.88</td>\n",
       "      <td>28.25</td>\n",
       "      <td>82.85</td>\n",
       "      <td>82.850</td>\n",
       "    </tr>\n",
       "    <tr>\n",
       "      <th>1</th>\n",
       "      <td>gat</td>\n",
       "      <td>31.61</td>\n",
       "      <td>34.76</td>\n",
       "      <td>14.00</td>\n",
       "      <td>93</td>\n",
       "      <td>0</td>\n",
       "      <td>1.50</td>\n",
       "      <td>16.67</td>\n",
       "      <td>57.20</td>\n",
       "      <td>62.006</td>\n",
       "    </tr>\n",
       "    <tr>\n",
       "      <th>2</th>\n",
       "      <td>maniitsoq</td>\n",
       "      <td>65.42</td>\n",
       "      <td>-52.90</td>\n",
       "      <td>-17.15</td>\n",
       "      <td>72</td>\n",
       "      <td>4</td>\n",
       "      <td>6.20</td>\n",
       "      <td>-17.15</td>\n",
       "      <td>1.13</td>\n",
       "      <td>1.130</td>\n",
       "    </tr>\n",
       "    <tr>\n",
       "      <th>3</th>\n",
       "      <td>kapaa</td>\n",
       "      <td>22.08</td>\n",
       "      <td>-159.32</td>\n",
       "      <td>21.85</td>\n",
       "      <td>94</td>\n",
       "      <td>90</td>\n",
       "      <td>11.80</td>\n",
       "      <td>23.00</td>\n",
       "      <td>71.33</td>\n",
       "      <td>73.400</td>\n",
       "    </tr>\n",
       "    <tr>\n",
       "      <th>4</th>\n",
       "      <td>atuona</td>\n",
       "      <td>-9.80</td>\n",
       "      <td>-139.03</td>\n",
       "      <td>27.85</td>\n",
       "      <td>68</td>\n",
       "      <td>14</td>\n",
       "      <td>4.02</td>\n",
       "      <td>27.85</td>\n",
       "      <td>82.13</td>\n",
       "      <td>82.130</td>\n",
       "    </tr>\n",
       "  </tbody>\n",
       "</table>\n",
       "</div>"
      ],
      "text/plain": [
       "        city    lat     lon   temp  humidity  clouds  windspeed  temp_max  \\\n",
       "0    vaitape -16.52 -151.75  28.25        73      17       3.88     28.25   \n",
       "1        gat  31.61   34.76  14.00        93       0       1.50     16.67   \n",
       "2  maniitsoq  65.42  -52.90 -17.15        72       4       6.20    -17.15   \n",
       "3      kapaa  22.08 -159.32  21.85        94      90      11.80     23.00   \n",
       "4     atuona  -9.80 -139.03  27.85        68      14       4.02     27.85   \n",
       "\n",
       "   temp (F)  temp_max (F)  \n",
       "0     82.85        82.850  \n",
       "1     57.20        62.006  \n",
       "2      1.13         1.130  \n",
       "3     71.33        73.400  \n",
       "4     82.13        82.130  "
      ]
     },
     "execution_count": 2,
     "metadata": {},
     "output_type": "execute_result"
    }
   ],
   "source": [
    "cities_df = pd.DataFrame(pd.read_csv(\"output_data/cities.csv\"))\n",
    "cities_df[\"temp (F)\"] = (cities_df[\"temp\"]  * 1.8) + 32\n",
    "cities_df[\"temp_max (F)\"] = (cities_df[\"temp_max\"]  * 1.8) + 32\n",
    "cities_df.head()"
   ]
  },
  {
   "cell_type": "markdown",
   "metadata": {},
   "source": [
    "### Humidity Heatmap\n",
    "* Configure gmaps.\n",
    "* Use the Lat and Lng as locations and Humidity as the weight.\n",
    "* Add Heatmap layer to map."
   ]
  },
  {
   "cell_type": "code",
   "execution_count": 3,
   "metadata": {},
   "outputs": [
    {
     "data": {
      "application/vnd.jupyter.widget-view+json": {
       "model_id": "fa1605d4054e4c82b845c46bafd3bb9e",
       "version_major": 2,
       "version_minor": 0
      },
      "text/plain": [
       "Figure(layout=FigureLayout(height='420px'))"
      ]
     },
     "metadata": {},
     "output_type": "display_data"
    }
   ],
   "source": [
    "coordinates = []\n",
    "humidity = []\n",
    "for i in range(len(cities_df)):\n",
    "    coordinates.append([cities_df[\"lat\"][i], cities_df[\"lon\"][i]])\n",
    "    humidity.append(cities_df[\"humidity\"][i])\n",
    "\n",
    "\n",
    "fig = gmaps.figure()\n",
    "\n",
    "heat_layer = gmaps.heatmap_layer(coordinates, weights=humidity, \n",
    "                                 dissipating=False, max_intensity=100,\n",
    "                                 point_radius = 1.5)\n",
    "\n",
    "fig.add_layer(heat_layer)\n",
    "\n",
    "fig"
   ]
  },
  {
   "cell_type": "markdown",
   "metadata": {},
   "source": [
    "### Create new DataFrame fitting weather criteria\n",
    "* Narrow down the cities to fit weather conditions.\n",
    "* Drop any rows will null values."
   ]
  },
  {
   "cell_type": "code",
   "execution_count": 4,
   "metadata": {},
   "outputs": [],
   "source": [
    "matching_hotels_df = cities_df[ (cities_df['temp_max (F)']>70) & (cities_df['temp_max (F)']<80) & (cities_df['windspeed']<10)  & (cities_df['clouds']==0)]\n",
    "\n"
   ]
  },
  {
   "cell_type": "markdown",
   "metadata": {},
   "source": [
    "### Hotel Map\n",
    "* Store into variable named `hotel_df`.\n",
    "* Add a \"Hotel Name\" column to the DataFrame.\n",
    "* Set parameters to search for hotels with 5000 meters.\n",
    "* Hit the Google Places API for each city's coordinates.\n",
    "* Store the first Hotel result into the DataFrame.\n",
    "* Plot markers on top of the heatmap."
   ]
  },
  {
   "cell_type": "code",
   "execution_count": 5,
   "metadata": {},
   "outputs": [
    {
     "name": "stderr",
     "output_type": "stream",
     "text": [
      "C:\\Users\\busha\\Anaconda3\\lib\\site-packages\\ipykernel_launcher.py:11: SettingWithCopyWarning: \n",
      "A value is trying to be set on a copy of a slice from a DataFrame\n",
      "\n",
      "See the caveats in the documentation: https://pandas.pydata.org/pandas-docs/stable/user_guide/indexing.html#returning-a-view-versus-a-copy\n",
      "  # This is added back by InteractiveShellApp.init_path()\n"
     ]
    },
    {
     "data": {
      "text/html": [
       "<div>\n",
       "<style scoped>\n",
       "    .dataframe tbody tr th:only-of-type {\n",
       "        vertical-align: middle;\n",
       "    }\n",
       "\n",
       "    .dataframe tbody tr th {\n",
       "        vertical-align: top;\n",
       "    }\n",
       "\n",
       "    .dataframe thead th {\n",
       "        text-align: right;\n",
       "    }\n",
       "</style>\n",
       "<table border=\"1\" class=\"dataframe\">\n",
       "  <thead>\n",
       "    <tr style=\"text-align: right;\">\n",
       "      <th></th>\n",
       "      <th>lat</th>\n",
       "      <th>lon</th>\n",
       "      <th>city</th>\n",
       "      <th>humidity</th>\n",
       "      <th>Hotel_Coordinates</th>\n",
       "      <th>Hotel_Name</th>\n",
       "    </tr>\n",
       "  </thead>\n",
       "  <tbody>\n",
       "    <tr>\n",
       "      <th>0</th>\n",
       "      <td>-8.47</td>\n",
       "      <td>118.72</td>\n",
       "      <td>bima</td>\n",
       "      <td>93</td>\n",
       "      <td>'-8.47','118.72'</td>\n",
       "      <td>Excluded</td>\n",
       "    </tr>\n",
       "    <tr>\n",
       "      <th>1</th>\n",
       "      <td>-20.28</td>\n",
       "      <td>44.28</td>\n",
       "      <td>morondava</td>\n",
       "      <td>95</td>\n",
       "      <td>'-20.28','44.28'</td>\n",
       "      <td>Excluded</td>\n",
       "    </tr>\n",
       "    <tr>\n",
       "      <th>2</th>\n",
       "      <td>-38.55</td>\n",
       "      <td>-58.74</td>\n",
       "      <td>necochea</td>\n",
       "      <td>73</td>\n",
       "      <td>'-38.55','-58.74'</td>\n",
       "      <td>Excluded</td>\n",
       "    </tr>\n",
       "    <tr>\n",
       "      <th>3</th>\n",
       "      <td>-26.02</td>\n",
       "      <td>22.40</td>\n",
       "      <td>tsabong</td>\n",
       "      <td>29</td>\n",
       "      <td>'-26.02','22.4'</td>\n",
       "      <td>Excluded</td>\n",
       "    </tr>\n",
       "    <tr>\n",
       "      <th>4</th>\n",
       "      <td>-33.70</td>\n",
       "      <td>-53.46</td>\n",
       "      <td>chuy</td>\n",
       "      <td>58</td>\n",
       "      <td>'-33.7','-53.46'</td>\n",
       "      <td>Excluded</td>\n",
       "    </tr>\n",
       "    <tr>\n",
       "      <th>5</th>\n",
       "      <td>5.40</td>\n",
       "      <td>26.49</td>\n",
       "      <td>obo</td>\n",
       "      <td>39</td>\n",
       "      <td>'5.4','26.49'</td>\n",
       "      <td>Excluded</td>\n",
       "    </tr>\n",
       "    <tr>\n",
       "      <th>6</th>\n",
       "      <td>24.09</td>\n",
       "      <td>32.91</td>\n",
       "      <td>aswan</td>\n",
       "      <td>34</td>\n",
       "      <td>'24.09','32.91'</td>\n",
       "      <td>Excluded</td>\n",
       "    </tr>\n",
       "    <tr>\n",
       "      <th>7</th>\n",
       "      <td>-21.17</td>\n",
       "      <td>27.51</td>\n",
       "      <td>francistown</td>\n",
       "      <td>61</td>\n",
       "      <td>'-21.17','27.51'</td>\n",
       "      <td>Excluded</td>\n",
       "    </tr>\n",
       "    <tr>\n",
       "      <th>8</th>\n",
       "      <td>11.00</td>\n",
       "      <td>122.67</td>\n",
       "      <td>dingle</td>\n",
       "      <td>89</td>\n",
       "      <td>'11.0','122.67'</td>\n",
       "      <td>Excluded</td>\n",
       "    </tr>\n",
       "    <tr>\n",
       "      <th>9</th>\n",
       "      <td>10.07</td>\n",
       "      <td>34.53</td>\n",
       "      <td>asosa</td>\n",
       "      <td>18</td>\n",
       "      <td>'10.07','34.53'</td>\n",
       "      <td>Excluded</td>\n",
       "    </tr>\n",
       "    <tr>\n",
       "      <th>10</th>\n",
       "      <td>13.60</td>\n",
       "      <td>26.69</td>\n",
       "      <td>umm kaddadah</td>\n",
       "      <td>13</td>\n",
       "      <td>'13.6','26.69'</td>\n",
       "      <td>Excluded</td>\n",
       "    </tr>\n",
       "    <tr>\n",
       "      <th>11</th>\n",
       "      <td>-20.32</td>\n",
       "      <td>118.57</td>\n",
       "      <td>port hedland</td>\n",
       "      <td>94</td>\n",
       "      <td>'-20.32','118.57'</td>\n",
       "      <td>Excluded</td>\n",
       "    </tr>\n",
       "    <tr>\n",
       "      <th>12</th>\n",
       "      <td>20.87</td>\n",
       "      <td>95.87</td>\n",
       "      <td>meiktila</td>\n",
       "      <td>26</td>\n",
       "      <td>'20.87','95.87'</td>\n",
       "      <td>Excluded</td>\n",
       "    </tr>\n",
       "    <tr>\n",
       "      <th>13</th>\n",
       "      <td>25.29</td>\n",
       "      <td>32.55</td>\n",
       "      <td>esna</td>\n",
       "      <td>49</td>\n",
       "      <td>'25.29','32.55'</td>\n",
       "      <td>Excluded</td>\n",
       "    </tr>\n",
       "  </tbody>\n",
       "</table>\n",
       "</div>"
      ],
      "text/plain": [
       "      lat     lon          city  humidity  Hotel_Coordinates Hotel_Name\n",
       "0   -8.47  118.72          bima        93   '-8.47','118.72'   Excluded\n",
       "1  -20.28   44.28     morondava        95   '-20.28','44.28'   Excluded\n",
       "2  -38.55  -58.74      necochea        73  '-38.55','-58.74'   Excluded\n",
       "3  -26.02   22.40       tsabong        29    '-26.02','22.4'   Excluded\n",
       "4  -33.70  -53.46          chuy        58   '-33.7','-53.46'   Excluded\n",
       "5    5.40   26.49           obo        39      '5.4','26.49'   Excluded\n",
       "6   24.09   32.91         aswan        34    '24.09','32.91'   Excluded\n",
       "7  -21.17   27.51   francistown        61   '-21.17','27.51'   Excluded\n",
       "8   11.00  122.67        dingle        89    '11.0','122.67'   Excluded\n",
       "9   10.07   34.53         asosa        18    '10.07','34.53'   Excluded\n",
       "10  13.60   26.69  umm kaddadah        13     '13.6','26.69'   Excluded\n",
       "11 -20.32  118.57  port hedland        94  '-20.32','118.57'   Excluded\n",
       "12  20.87   95.87      meiktila        26    '20.87','95.87'   Excluded\n",
       "13  25.29   32.55          esna        49    '25.29','32.55'   Excluded"
      ]
     },
     "execution_count": 5,
     "metadata": {},
     "output_type": "execute_result"
    }
   ],
   "source": [
    "city_list = matching_hotels_df[\"city\"].tolist()\n",
    "lat_list = matching_hotels_df[\"lat\"].tolist()\n",
    "lon_list = matching_hotels_df[\"lon\"].tolist()\n",
    "humidity_list = matching_hotels_df[\"humidity\"].tolist()\n",
    "coords = list(zip(lat_list, lon_list, city_list, humidity_list))\n",
    "coords_df = pd.DataFrame(coords)\n",
    "coordinates_df = coords_df.rename(columns={0: \"lat\", 1: \"lon\", 2: \"city\", 3: \"humidity\"})\n",
    "coordinates_df[\"Hotel_Coordinates\"] = \"\" \n",
    "\n",
    "for i in range(len(coordinates_df)):\n",
    "    coordinates_df[\"Hotel_Coordinates\"][i] = \"'\" + str(coordinates_df[\"lat\"][i]) + \"','\" + str(coordinates_df[\"lon\"][i]) +\"'\"\n",
    "    #str(coordinates_df[\"lat\"][i]) + str(\"', '\") + str(coordinates_df[\"lon\"][i])\n",
    "\n",
    "hotel_coordinates = []\n",
    "for coord in coords:\n",
    "    hotel_coordinates.append(str(coord[0]) + ', ' + str(coord[1]))\n",
    "\n",
    "\n",
    "coordinates_df = coordinates_df.reset_index()\n",
    "del coordinates_df[\"index\"]\n",
    "coordinates_df[\"Hotel_Name\"] = \"Excluded\"\n",
    "coordinates_df"
   ]
  },
  {
   "cell_type": "code",
   "execution_count": 6,
   "metadata": {},
   "outputs": [
    {
     "name": "stderr",
     "output_type": "stream",
     "text": [
      "C:\\Users\\busha\\Anaconda3\\lib\\site-packages\\ipykernel_launcher.py:17: SettingWithCopyWarning: \n",
      "A value is trying to be set on a copy of a slice from a DataFrame\n",
      "\n",
      "See the caveats in the documentation: https://pandas.pydata.org/pandas-docs/stable/user_guide/indexing.html#returning-a-view-versus-a-copy\n"
     ]
    },
    {
     "name": "stdout",
     "output_type": "stream",
     "text": [
      "Hotel not found based on parameters - skipping...\n",
      "Hotel not found based on parameters - skipping...\n",
      "Hotel not found based on parameters - skipping...\n"
     ]
    }
   ],
   "source": [
    "hotels_matching_parameters = []\n",
    "i = 0\n",
    "for hotel_coordinate in hotel_coordinates:\n",
    "    \n",
    "    try:\n",
    "        parameters = {\n",
    "            \"location\": hotel_coordinate,\n",
    "            \"keyword\": \"hotel\",\n",
    "            \"radius\":  \"5000\",\n",
    "            \"key\": g_key\n",
    "        }\n",
    "\n",
    "        response = requests.get(base_url, params = parameters)\n",
    "        places_data = response.json()\n",
    "\n",
    "        hotels_matching_parameters.append(places_data[\"results\"][0][\"name\"])\n",
    "        coordinates_df[\"Hotel_Name\"][i] = places_data[\"results\"][0][\"name\"]\n",
    "        i += 1\n",
    "    except (KeyError, ValueError, IndexError):\n",
    "            print(\"Hotel not found based on parameters - skipping...\")\n",
    "            i += 1\n",
    "hotels_temp_df = coordinates_df.loc[coordinates_df[\"Hotel_Name\"] != \"Excluded\"]\n",
    "hotels_df = hotels_temp_df.reset_index()"
   ]
  },
  {
   "cell_type": "code",
   "execution_count": 7,
   "metadata": {},
   "outputs": [
    {
     "data": {
      "application/vnd.jupyter.widget-view+json": {
       "model_id": "a2bc51d76468438582894bfeecf88e13",
       "version_major": 2,
       "version_minor": 0
      },
      "text/plain": [
       "Figure(layout=FigureLayout(height='420px'))"
      ]
     },
     "metadata": {},
     "output_type": "display_data"
    }
   ],
   "source": [
    "locations = []\n",
    "\n",
    "for i in range(len(hotels_df)):\n",
    "    #print(hotels_df['lat'][i])\n",
    "    locations.append([hotels_df['lat'][i], hotels_df['lon'][i]])\n",
    "\n",
    "    \n",
    "humidity_list = hotels_df[\"humidity\"].astype(float).to_list()\n",
    "\n",
    "# Plot Heatmap\n",
    "hfig = gmaps.figure()\n",
    "\n",
    "# Create heat layer\n",
    "heat_layer = gmaps.heatmap_layer(locations, weights=humidity_list, \n",
    "                                 dissipating=False, max_intensity=10,\n",
    "                                 point_radius=1)\n",
    "\n",
    "\n",
    "# Add layer\n",
    "hfig.add_layer(heat_layer)\n",
    "\n",
    "# Display figure\n",
    "hfig\n"
   ]
  },
  {
   "cell_type": "code",
   "execution_count": 8,
   "metadata": {},
   "outputs": [],
   "source": [
    "# NOTE: Do not change any of the code in this cell\n",
    "\n",
    "# Using the template add the hotel marks to the heatmap\n",
    "info_box_template = \"\"\"\n",
    "<dl>\n",
    "<dt>Name</dt><dd>{Hotel_Name}</dd>\n",
    "<dt>City</dt><dd>{city}</dd>\n",
    "<dt>Country</dt><dd>Not listed</dd>\n",
    "</dl>\n",
    "\"\"\"\n",
    "# Store the DataFrame Row\n",
    "# NOTE: be sure to update with your DataFrame name\n",
    "hotel_info = [info_box_template.format(**row) for index, row in hotels_df.iterrows()]\n",
    "locations = hotels_df[[\"lat\", \"lon\"]]"
   ]
  },
  {
   "cell_type": "code",
   "execution_count": 9,
   "metadata": {},
   "outputs": [
    {
     "data": {
      "application/vnd.jupyter.widget-view+json": {
       "model_id": "a2bc51d76468438582894bfeecf88e13",
       "version_major": 2,
       "version_minor": 0
      },
      "text/plain": [
       "Figure(layout=FigureLayout(height='420px'))"
      ]
     },
     "metadata": {},
     "output_type": "display_data"
    }
   ],
   "source": [
    "# Add marker layer ontop of heat map\n",
    "markers = gmaps.marker_layer(locations, info_box_content= [f\"Nearest Hotel: {Hotel}\" for Hotel in hotels_df[\"Hotel_Name\"]])\n",
    "hfig.add_layer(markers)\n",
    "\n",
    "# Display Map\n",
    "hfig"
   ]
  }
 ],
 "metadata": {
  "kernelspec": {
   "display_name": "Python 3",
   "language": "python",
   "name": "python3"
  },
  "language_info": {
   "codemirror_mode": {
    "name": "ipython",
    "version": 3
   },
   "file_extension": ".py",
   "mimetype": "text/x-python",
   "name": "python",
   "nbconvert_exporter": "python",
   "pygments_lexer": "ipython3",
   "version": "3.7.6"
  },
  "latex_envs": {
   "LaTeX_envs_menu_present": true,
   "autoclose": false,
   "autocomplete": true,
   "bibliofile": "biblio.bib",
   "cite_by": "apalike",
   "current_citInitial": 1,
   "eqLabelWithNumbers": true,
   "eqNumInitial": 1,
   "hotkeys": {
    "equation": "Ctrl-E",
    "itemize": "Ctrl-I"
   },
   "labels_anchors": false,
   "latex_user_defs": false,
   "report_style_numbering": false,
   "user_envs_cfg": false
  }
 },
 "nbformat": 4,
 "nbformat_minor": 2
}
