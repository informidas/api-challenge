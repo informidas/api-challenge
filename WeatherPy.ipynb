{
 "cells": [
  {
   "cell_type": "markdown",
   "metadata": {},
   "source": [
    "# WeatherPy\n",
    "----\n",
    "\n",
    "#### Note\n",
    "* Instructions have been included for each segment. You do not have to follow them exactly, but they are included to help you think through the steps."
   ]
  },
  {
   "cell_type": "code",
   "execution_count": 1,
   "metadata": {
    "scrolled": true
   },
   "outputs": [],
   "source": [
    "# Dependencies and Setup\n",
    "import matplotlib.pyplot as plt\n",
    "import pandas as pd\n",
    "import numpy as np\n",
    "import requests\n",
    "import time\n",
    "from scipy.stats import linregress\n",
    "\n",
    "# Import API key\n",
    "from config import weather_api_key\n",
    "\n",
    "# Incorporated citipy to determine city based on latitude and longitude\n",
    "from citipy import citipy\n",
    "\n",
    "# Output File (CSV)\n",
    "output_data_file = \"output_data/cities.csv\"\n",
    "\n",
    "# Range of latitudes and longitudes\n",
    "lat_range = (-90, 90)\n",
    "lng_range = (-180, 180)"
   ]
  },
  {
   "cell_type": "markdown",
   "metadata": {},
   "source": [
    "## Generate Cities List"
   ]
  },
  {
   "cell_type": "code",
   "execution_count": 2,
   "metadata": {},
   "outputs": [
    {
     "data": {
      "text/plain": [
       "642"
      ]
     },
     "execution_count": 2,
     "metadata": {},
     "output_type": "execute_result"
    }
   ],
   "source": [
    "# List for holding lat_lngs and cities\n",
    "lat_lngs = []\n",
    "cities = []\n",
    "\n",
    "# Create a set of random lat and lng combinations\n",
    "lats = np.random.uniform(low=-90.000, high=90.000, size=1500)\n",
    "lngs = np.random.uniform(low=-180.000, high=180.000, size=1500)\n",
    "lat_lngs = zip(lats, lngs)\n",
    "\n",
    "# Identify nearest city for each lat, lng combination\n",
    "for lat_lng in lat_lngs:\n",
    "    city = citipy.nearest_city(lat_lng[0], lat_lng[1]).city_name\n",
    "    \n",
    "    # If the city is unique, then add it to a our cities list\n",
    "    if city not in cities:\n",
    "        cities.append(city)\n",
    "\n",
    "# Print the city count to confirm sufficient count\n",
    "len(cities)"
   ]
  },
  {
   "cell_type": "code",
   "execution_count": 3,
   "metadata": {},
   "outputs": [],
   "source": [
    "# Save config information.\n",
    "url = \"http://api.openweathermap.org/data/2.5/weather?\"\n",
    "units = \"metric\""
   ]
  },
  {
   "cell_type": "code",
   "execution_count": 4,
   "metadata": {},
   "outputs": [],
   "source": [
    "\n",
    "# Build partial query URL\n",
    "query_url = f\"{url}appid={weather_api_key}&units={units}&q=\""
   ]
  },
  {
   "cell_type": "code",
   "execution_count": 5,
   "metadata": {},
   "outputs": [],
   "source": [
    "#city_name = 'kirksville'\n",
    "#response = requests.get(query_url + city_name).json()\n",
    "#print(response)"
   ]
  },
  {
   "cell_type": "markdown",
   "metadata": {},
   "source": [
    "### Perform API Calls\n",
    "* Perform a weather check on each city using a series of successive API calls.\n",
    "* Include a print log of each city as it'sbeing processed (with the city number and city name).\n"
   ]
  },
  {
   "cell_type": "code",
   "execution_count": 6,
   "metadata": {},
   "outputs": [
    {
     "name": "stdout",
     "output_type": "stream",
     "text": [
      "Data for one or more Keys is missing - skipping record...\n"
     ]
    }
   ],
   "source": [
    "# set up lists to hold reponse info\n",
    "city = []\n",
    "lat = []\n",
    "temp = []\n",
    "humidity = []\n",
    "clouds = []\n",
    "windspeed = []\n",
    "temp_max = []\n",
    "\n",
    "try:\n",
    "    # Loop through the list of cities and perform a request for data on each\n",
    "    for city_name in cities:\n",
    "        response = requests.get(query_url + city_name).json()\n",
    "        lat.append(response['coord']['lat'])\n",
    "        temp.append(response['main']['temp'])\n",
    "        humidity.append(response['main']['humidity'])\n",
    "        clouds.append(response['clouds']['all'])\n",
    "        windspeed.append(response['wind']['speed'])\n",
    "        temp_max.append(response['main']['temp_max'])\n",
    "        city.append(city_name)\n",
    "        \n",
    "except (IndexError, KeyError, ValueError ):\n",
    "    print(\"Data for one or more Keys is missing - skipping record...\")"
   ]
  },
  {
   "cell_type": "markdown",
   "metadata": {},
   "source": [
    "### Convert Raw Data to DataFrame\n",
    "* Export the city data into a .csv.\n",
    "* Display the DataFrame"
   ]
  },
  {
   "cell_type": "code",
   "execution_count": 7,
   "metadata": {},
   "outputs": [],
   "source": [
    "weather_dict = {\n",
    "    \"city\": city,\n",
    "    \"lat\": lat,\n",
    "    \"temp\": temp,\n",
    "    \"humidity\": humidity,\n",
    "    \"clouds\": clouds,\n",
    "    \"windspeed\": windspeed,\n",
    "    \"temp_max\": temp_max\n",
    "}\n",
    "weather_data = pd.DataFrame(weather_dict)\n",
    "\n",
    "# save dataframe to a csv file\n",
    "weather_data.to_csv(output_data_file, index = False)\n"
   ]
  },
  {
   "cell_type": "code",
   "execution_count": 8,
   "metadata": {},
   "outputs": [
    {
     "data": {
      "text/html": [
       "<div>\n",
       "<style scoped>\n",
       "    .dataframe tbody tr th:only-of-type {\n",
       "        vertical-align: middle;\n",
       "    }\n",
       "\n",
       "    .dataframe tbody tr th {\n",
       "        vertical-align: top;\n",
       "    }\n",
       "\n",
       "    .dataframe thead th {\n",
       "        text-align: right;\n",
       "    }\n",
       "</style>\n",
       "<table border=\"1\" class=\"dataframe\">\n",
       "  <thead>\n",
       "    <tr style=\"text-align: right;\">\n",
       "      <th></th>\n",
       "      <th>city</th>\n",
       "      <th>lat</th>\n",
       "      <th>temp</th>\n",
       "      <th>humidity</th>\n",
       "      <th>clouds</th>\n",
       "      <th>windspeed</th>\n",
       "      <th>temp_max</th>\n",
       "    </tr>\n",
       "  </thead>\n",
       "  <tbody>\n",
       "    <tr>\n",
       "      <th>0</th>\n",
       "      <td>verkhniy landekh</td>\n",
       "      <td>56.84</td>\n",
       "      <td>-4.00</td>\n",
       "      <td>85</td>\n",
       "      <td>100</td>\n",
       "      <td>6.04</td>\n",
       "      <td>-4.00</td>\n",
       "    </tr>\n",
       "    <tr>\n",
       "      <th>1</th>\n",
       "      <td>camacha</td>\n",
       "      <td>33.08</td>\n",
       "      <td>15.57</td>\n",
       "      <td>63</td>\n",
       "      <td>75</td>\n",
       "      <td>5.70</td>\n",
       "      <td>16.00</td>\n",
       "    </tr>\n",
       "    <tr>\n",
       "      <th>2</th>\n",
       "      <td>sitka</td>\n",
       "      <td>57.05</td>\n",
       "      <td>4.54</td>\n",
       "      <td>60</td>\n",
       "      <td>1</td>\n",
       "      <td>3.28</td>\n",
       "      <td>5.00</td>\n",
       "    </tr>\n",
       "    <tr>\n",
       "      <th>3</th>\n",
       "      <td>yellowknife</td>\n",
       "      <td>62.46</td>\n",
       "      <td>-12.77</td>\n",
       "      <td>51</td>\n",
       "      <td>75</td>\n",
       "      <td>5.10</td>\n",
       "      <td>-12.00</td>\n",
       "    </tr>\n",
       "    <tr>\n",
       "      <th>4</th>\n",
       "      <td>hilo</td>\n",
       "      <td>19.73</td>\n",
       "      <td>22.75</td>\n",
       "      <td>78</td>\n",
       "      <td>90</td>\n",
       "      <td>3.10</td>\n",
       "      <td>25.00</td>\n",
       "    </tr>\n",
       "    <tr>\n",
       "      <th>5</th>\n",
       "      <td>thompson</td>\n",
       "      <td>55.74</td>\n",
       "      <td>-13.00</td>\n",
       "      <td>46</td>\n",
       "      <td>20</td>\n",
       "      <td>1.50</td>\n",
       "      <td>-13.00</td>\n",
       "    </tr>\n",
       "    <tr>\n",
       "      <th>6</th>\n",
       "      <td>carnarvon</td>\n",
       "      <td>-24.87</td>\n",
       "      <td>25.00</td>\n",
       "      <td>78</td>\n",
       "      <td>75</td>\n",
       "      <td>3.10</td>\n",
       "      <td>25.00</td>\n",
       "    </tr>\n",
       "    <tr>\n",
       "      <th>7</th>\n",
       "      <td>cabo san lucas</td>\n",
       "      <td>22.89</td>\n",
       "      <td>24.56</td>\n",
       "      <td>39</td>\n",
       "      <td>40</td>\n",
       "      <td>10.30</td>\n",
       "      <td>27.00</td>\n",
       "    </tr>\n",
       "    <tr>\n",
       "      <th>8</th>\n",
       "      <td>dingle</td>\n",
       "      <td>11.00</td>\n",
       "      <td>25.24</td>\n",
       "      <td>76</td>\n",
       "      <td>23</td>\n",
       "      <td>3.53</td>\n",
       "      <td>25.24</td>\n",
       "    </tr>\n",
       "    <tr>\n",
       "      <th>9</th>\n",
       "      <td>hermanus</td>\n",
       "      <td>-34.42</td>\n",
       "      <td>17.72</td>\n",
       "      <td>96</td>\n",
       "      <td>63</td>\n",
       "      <td>0.89</td>\n",
       "      <td>18.33</td>\n",
       "    </tr>\n",
       "    <tr>\n",
       "      <th>10</th>\n",
       "      <td>padang</td>\n",
       "      <td>-0.95</td>\n",
       "      <td>20.77</td>\n",
       "      <td>92</td>\n",
       "      <td>67</td>\n",
       "      <td>2.08</td>\n",
       "      <td>20.77</td>\n",
       "    </tr>\n",
       "    <tr>\n",
       "      <th>11</th>\n",
       "      <td>atuona</td>\n",
       "      <td>-9.80</td>\n",
       "      <td>27.80</td>\n",
       "      <td>72</td>\n",
       "      <td>21</td>\n",
       "      <td>4.87</td>\n",
       "      <td>27.80</td>\n",
       "    </tr>\n",
       "    <tr>\n",
       "      <th>12</th>\n",
       "      <td>nikolskoye</td>\n",
       "      <td>59.70</td>\n",
       "      <td>-4.23</td>\n",
       "      <td>45</td>\n",
       "      <td>76</td>\n",
       "      <td>6.00</td>\n",
       "      <td>-3.89</td>\n",
       "    </tr>\n",
       "    <tr>\n",
       "      <th>13</th>\n",
       "      <td>surgut</td>\n",
       "      <td>61.25</td>\n",
       "      <td>2.00</td>\n",
       "      <td>93</td>\n",
       "      <td>75</td>\n",
       "      <td>6.00</td>\n",
       "      <td>2.00</td>\n",
       "    </tr>\n",
       "    <tr>\n",
       "      <th>14</th>\n",
       "      <td>saldanha</td>\n",
       "      <td>-33.01</td>\n",
       "      <td>18.00</td>\n",
       "      <td>88</td>\n",
       "      <td>0</td>\n",
       "      <td>6.20</td>\n",
       "      <td>18.00</td>\n",
       "    </tr>\n",
       "    <tr>\n",
       "      <th>15</th>\n",
       "      <td>mataura</td>\n",
       "      <td>-46.19</td>\n",
       "      <td>16.11</td>\n",
       "      <td>75</td>\n",
       "      <td>100</td>\n",
       "      <td>1.34</td>\n",
       "      <td>16.11</td>\n",
       "    </tr>\n",
       "    <tr>\n",
       "      <th>16</th>\n",
       "      <td>ushuaia</td>\n",
       "      <td>-54.80</td>\n",
       "      <td>12.00</td>\n",
       "      <td>62</td>\n",
       "      <td>40</td>\n",
       "      <td>3.10</td>\n",
       "      <td>12.00</td>\n",
       "    </tr>\n",
       "    <tr>\n",
       "      <th>17</th>\n",
       "      <td>richards bay</td>\n",
       "      <td>-28.78</td>\n",
       "      <td>24.79</td>\n",
       "      <td>87</td>\n",
       "      <td>6</td>\n",
       "      <td>2.58</td>\n",
       "      <td>24.79</td>\n",
       "    </tr>\n",
       "    <tr>\n",
       "      <th>18</th>\n",
       "      <td>georgetown</td>\n",
       "      <td>5.41</td>\n",
       "      <td>27.56</td>\n",
       "      <td>94</td>\n",
       "      <td>20</td>\n",
       "      <td>1.50</td>\n",
       "      <td>28.00</td>\n",
       "    </tr>\n",
       "    <tr>\n",
       "      <th>19</th>\n",
       "      <td>hithadhoo</td>\n",
       "      <td>-0.60</td>\n",
       "      <td>28.24</td>\n",
       "      <td>64</td>\n",
       "      <td>64</td>\n",
       "      <td>1.55</td>\n",
       "      <td>28.24</td>\n",
       "    </tr>\n",
       "    <tr>\n",
       "      <th>20</th>\n",
       "      <td>port elizabeth</td>\n",
       "      <td>-33.92</td>\n",
       "      <td>19.00</td>\n",
       "      <td>82</td>\n",
       "      <td>95</td>\n",
       "      <td>5.10</td>\n",
       "      <td>19.00</td>\n",
       "    </tr>\n",
       "    <tr>\n",
       "      <th>21</th>\n",
       "      <td>jamestown</td>\n",
       "      <td>42.10</td>\n",
       "      <td>0.50</td>\n",
       "      <td>80</td>\n",
       "      <td>90</td>\n",
       "      <td>3.10</td>\n",
       "      <td>3.33</td>\n",
       "    </tr>\n",
       "    <tr>\n",
       "      <th>22</th>\n",
       "      <td>gravdal</td>\n",
       "      <td>68.12</td>\n",
       "      <td>3.81</td>\n",
       "      <td>69</td>\n",
       "      <td>100</td>\n",
       "      <td>16.85</td>\n",
       "      <td>3.81</td>\n",
       "    </tr>\n",
       "    <tr>\n",
       "      <th>23</th>\n",
       "      <td>puerto carreno</td>\n",
       "      <td>6.19</td>\n",
       "      <td>36.00</td>\n",
       "      <td>37</td>\n",
       "      <td>80</td>\n",
       "      <td>3.10</td>\n",
       "      <td>36.00</td>\n",
       "    </tr>\n",
       "    <tr>\n",
       "      <th>24</th>\n",
       "      <td>new norfolk</td>\n",
       "      <td>-42.78</td>\n",
       "      <td>13.72</td>\n",
       "      <td>76</td>\n",
       "      <td>75</td>\n",
       "      <td>2.60</td>\n",
       "      <td>16.11</td>\n",
       "    </tr>\n",
       "    <tr>\n",
       "      <th>25</th>\n",
       "      <td>sorland</td>\n",
       "      <td>67.67</td>\n",
       "      <td>4.62</td>\n",
       "      <td>66</td>\n",
       "      <td>100</td>\n",
       "      <td>16.67</td>\n",
       "      <td>4.62</td>\n",
       "    </tr>\n",
       "    <tr>\n",
       "      <th>26</th>\n",
       "      <td>arraial do cabo</td>\n",
       "      <td>-22.97</td>\n",
       "      <td>25.00</td>\n",
       "      <td>94</td>\n",
       "      <td>20</td>\n",
       "      <td>2.10</td>\n",
       "      <td>25.00</td>\n",
       "    </tr>\n",
       "    <tr>\n",
       "      <th>27</th>\n",
       "      <td>udachnyy</td>\n",
       "      <td>66.42</td>\n",
       "      <td>-8.00</td>\n",
       "      <td>92</td>\n",
       "      <td>38</td>\n",
       "      <td>2.00</td>\n",
       "      <td>-8.00</td>\n",
       "    </tr>\n",
       "    <tr>\n",
       "      <th>28</th>\n",
       "      <td>nemuro</td>\n",
       "      <td>43.32</td>\n",
       "      <td>-1.19</td>\n",
       "      <td>72</td>\n",
       "      <td>100</td>\n",
       "      <td>6.44</td>\n",
       "      <td>-1.19</td>\n",
       "    </tr>\n",
       "    <tr>\n",
       "      <th>29</th>\n",
       "      <td>east london</td>\n",
       "      <td>-33.02</td>\n",
       "      <td>22.60</td>\n",
       "      <td>78</td>\n",
       "      <td>56</td>\n",
       "      <td>4.37</td>\n",
       "      <td>22.60</td>\n",
       "    </tr>\n",
       "    <tr>\n",
       "      <th>30</th>\n",
       "      <td>ankazoabo</td>\n",
       "      <td>-22.28</td>\n",
       "      <td>20.27</td>\n",
       "      <td>84</td>\n",
       "      <td>54</td>\n",
       "      <td>0.11</td>\n",
       "      <td>20.27</td>\n",
       "    </tr>\n",
       "  </tbody>\n",
       "</table>\n",
       "</div>"
      ],
      "text/plain": [
       "                city    lat   temp  humidity  clouds  windspeed  temp_max\n",
       "0   verkhniy landekh  56.84  -4.00        85     100       6.04     -4.00\n",
       "1            camacha  33.08  15.57        63      75       5.70     16.00\n",
       "2              sitka  57.05   4.54        60       1       3.28      5.00\n",
       "3        yellowknife  62.46 -12.77        51      75       5.10    -12.00\n",
       "4               hilo  19.73  22.75        78      90       3.10     25.00\n",
       "5           thompson  55.74 -13.00        46      20       1.50    -13.00\n",
       "6          carnarvon -24.87  25.00        78      75       3.10     25.00\n",
       "7     cabo san lucas  22.89  24.56        39      40      10.30     27.00\n",
       "8             dingle  11.00  25.24        76      23       3.53     25.24\n",
       "9           hermanus -34.42  17.72        96      63       0.89     18.33\n",
       "10            padang  -0.95  20.77        92      67       2.08     20.77\n",
       "11            atuona  -9.80  27.80        72      21       4.87     27.80\n",
       "12        nikolskoye  59.70  -4.23        45      76       6.00     -3.89\n",
       "13            surgut  61.25   2.00        93      75       6.00      2.00\n",
       "14          saldanha -33.01  18.00        88       0       6.20     18.00\n",
       "15           mataura -46.19  16.11        75     100       1.34     16.11\n",
       "16           ushuaia -54.80  12.00        62      40       3.10     12.00\n",
       "17      richards bay -28.78  24.79        87       6       2.58     24.79\n",
       "18        georgetown   5.41  27.56        94      20       1.50     28.00\n",
       "19         hithadhoo  -0.60  28.24        64      64       1.55     28.24\n",
       "20    port elizabeth -33.92  19.00        82      95       5.10     19.00\n",
       "21         jamestown  42.10   0.50        80      90       3.10      3.33\n",
       "22           gravdal  68.12   3.81        69     100      16.85      3.81\n",
       "23    puerto carreno   6.19  36.00        37      80       3.10     36.00\n",
       "24       new norfolk -42.78  13.72        76      75       2.60     16.11\n",
       "25           sorland  67.67   4.62        66     100      16.67      4.62\n",
       "26   arraial do cabo -22.97  25.00        94      20       2.10     25.00\n",
       "27          udachnyy  66.42  -8.00        92      38       2.00     -8.00\n",
       "28            nemuro  43.32  -1.19        72     100       6.44     -1.19\n",
       "29       east london -33.02  22.60        78      56       4.37     22.60\n",
       "30         ankazoabo -22.28  20.27        84      54       0.11     20.27"
      ]
     },
     "execution_count": 8,
     "metadata": {},
     "output_type": "execute_result"
    }
   ],
   "source": [
    "weather_data"
   ]
  },
  {
   "cell_type": "markdown",
   "metadata": {},
   "source": [
    "### Plotting the Data\n",
    "* Use proper labeling of the plots using plot titles (including date of analysis) and axes labels.\n",
    "* Save the plotted figures as .pngs."
   ]
  },
  {
   "cell_type": "markdown",
   "metadata": {},
   "source": [
    "#### Latitude vs. Temperature Plot"
   ]
  },
  {
   "cell_type": "code",
   "execution_count": 9,
   "metadata": {
    "scrolled": true
   },
   "outputs": [
    {
     "data": {
      "image/png": "[encoded data removed]",
      "text/plain": [
       "<Figure size 432x288 with 1 Axes>"
      ]
     },
     "metadata": {
      "needs_background": "light"
     },
     "output_type": "display_data"
    }
   ],
   "source": [
    "# Build a scatter plot for Latitiude vs Temperature\n",
    "plt.scatter(weather_data[\"lat\"], weather_data[\"temp\"], marker=\"o\")\n",
    "\n",
    "# Incorporate the other graph properties\n",
    "plt.title(\"Temperature Across Cities\")\n",
    "plt.ylabel(\"Temperature (Celsius)\")\n",
    "plt.xlabel(\"Latitude\")\n",
    "plt.grid(True)\n",
    "\n",
    "# Save the figure\n",
    "plt.savefig(\"output_data/TemperatureAcrossCities.png\")\n",
    "\n",
    "# Show plot\n",
    "plt.show()"
   ]
  },
  {
   "cell_type": "markdown",
   "metadata": {},
   "source": [
    "#### Latitude vs. Humidity Plot"
   ]
  },
  {
   "cell_type": "code",
   "execution_count": 10,
   "metadata": {},
   "outputs": [
    {
     "data": {
      "image/png": "[encoded data removed]",
      "text/plain": [
       "<Figure size 432x288 with 1 Axes>"
      ]
     },
     "metadata": {
      "needs_background": "light"
     },
     "output_type": "display_data"
    }
   ],
   "source": [
    "# Build a scatter plot for Latitiude vs Humidity\n",
    "plt.scatter(weather_data[\"lat\"], weather_data[\"humidity\"], marker=\"o\")\n",
    "\n",
    "# Incorporate the other graph properties\n",
    "plt.title(\"Humidity Across Cities\")\n",
    "plt.ylabel(\"Humidity\")\n",
    "plt.xlabel(\"Latitude\")\n",
    "plt.grid(True)\n",
    "\n",
    "# Save the figure\n",
    "plt.savefig(\"output_data/HumidityAcrossCities.png\")\n",
    "\n",
    "# Show plot\n",
    "plt.show()"
   ]
  },
  {
   "cell_type": "markdown",
   "metadata": {},
   "source": [
    "#### Latitude vs. Cloudiness Plot"
   ]
  },
  {
   "cell_type": "code",
   "execution_count": 11,
   "metadata": {},
   "outputs": [
    {
     "data": {
      "image/png": "[encoded data removed]",
      "text/plain": [
       "<Figure size 432x288 with 1 Axes>"
      ]
     },
     "metadata": {
      "needs_background": "light"
     },
     "output_type": "display_data"
    }
   ],
   "source": [
    "# Build a scatter plot for Latitiude vs Cloudiness\n",
    "plt.scatter(weather_data[\"lat\"], weather_data[\"clouds\"], marker=\"o\")\n",
    "\n",
    "# Incorporate the other graph properties\n",
    "plt.title(\"Cloudiness Across Cities\")\n",
    "plt.ylabel(\"Cloudiness\")\n",
    "plt.xlabel(\"Latitude\")\n",
    "plt.grid(True)\n",
    "\n",
    "# Save the figure\n",
    "plt.savefig(\"output_data/CloudinessAcrossCities.png\")\n",
    "\n",
    "# Show plot\n",
    "plt.show()"
   ]
  },
  {
   "cell_type": "markdown",
   "metadata": {},
   "source": [
    "#### Latitude vs. Wind Speed Plot"
   ]
  },
  {
   "cell_type": "code",
   "execution_count": 12,
   "metadata": {},
   "outputs": [
    {
     "data": {
      "image/png": "[encoded data removed]",
      "text/plain": [
       "<Figure size 432x288 with 1 Axes>"
      ]
     },
     "metadata": {
      "needs_background": "light"
     },
     "output_type": "display_data"
    }
   ],
   "source": [
    "# Build a scatter plot for Latitiude vs Windspeed\n",
    "plt.scatter(weather_data[\"lat\"], weather_data[\"windspeed\"], marker=\"o\")\n",
    "\n",
    "# Incorporate the other graph properties\n",
    "plt.title(\"Windspeed Across Cities\")\n",
    "plt.ylabel(\"Windiness\")\n",
    "plt.xlabel(\"Latitude\")\n",
    "plt.grid(True)\n",
    "\n",
    "# Save the figure\n",
    "plt.savefig(\"output_data/WindinessAcrossCities.png\")\n",
    "\n",
    "# Show plot\n",
    "plt.show()"
   ]
  },
  {
   "cell_type": "markdown",
   "metadata": {},
   "source": [
    "## Linear Regression"
   ]
  },
  {
   "cell_type": "code",
   "execution_count": 13,
   "metadata": {},
   "outputs": [
    {
     "name": "stdout",
     "output_type": "stream",
     "text": [
      "y = -0.23x +15.94\n",
      "The r-squared is: -0.6919214451880785\n"
     ]
    },
    {
     "data": {
      "image/png": "[encoded data removed]",
      "text/plain": [
       "<Figure size 432x288 with 1 Axes>"
      ]
     },
     "metadata": {
      "needs_background": "light"
     },
     "output_type": "display_data"
    }
   ],
   "source": [
    "# OPTIONAL: Create a function to create Linear Regression plots\n",
    "\n",
    "x_values = weather_data[\"lat\"]\n",
    "y_values = weather_data[\"temp\"],\n",
    "\n",
    "# Perform a linear regression on temperature vs. latitude\n",
    "(slope, intercept, rvalue, pvalue, stderr) = linregress(x_values, y_values)\n",
    "\n",
    "# Get regression values\n",
    "regress_values = x_values * slope + intercept\n",
    "#print(regress_values)\n",
    "\n",
    "# Create line equation string\n",
    "line_eq = \"y = \" + str(round(slope,2)) + \"x +\" + str(round(intercept,2))\n",
    "print(line_eq)\n",
    "\n",
    "# Create Plot\n",
    "plt.scatter(x_values,y_values)\n",
    "plt.plot(x_values,regress_values,\"r-\")\n",
    "\n",
    "# Label plot and annotate the line equation\n",
    "plt.xlabel('Latitude')\n",
    "plt.ylabel('Temperature')\n",
    "plt.annotate(line_eq,(20,15),fontsize=15,color=\"red\")\n",
    "\n",
    "# Print r square value\n",
    "print(f\"The r-squared is: {rvalue}\")\n",
    "\n",
    "# Show plot\n",
    "plt.show()"
   ]
  },
  {
   "cell_type": "code",
   "execution_count": 14,
   "metadata": {},
   "outputs": [
    {
     "name": "stderr",
     "output_type": "stream",
     "text": [
      "C:\\Users\\busha\\Anaconda3\\lib\\site-packages\\ipykernel_launcher.py:6: SettingWithCopyWarning: \n",
      "A value is trying to be set on a copy of a slice from a DataFrame\n",
      "\n",
      "See the caveats in the documentation: https://pandas.pydata.org/pandas-docs/stable/user_guide/indexing.html#returning-a-view-versus-a-copy\n",
      "  \n",
      "C:\\Users\\busha\\Anaconda3\\lib\\site-packages\\ipykernel_launcher.py:8: SettingWithCopyWarning: \n",
      "A value is trying to be set on a copy of a slice from a DataFrame\n",
      "\n",
      "See the caveats in the documentation: https://pandas.pydata.org/pandas-docs/stable/user_guide/indexing.html#returning-a-view-versus-a-copy\n",
      "  \n"
     ]
    }
   ],
   "source": [
    "# Create Northern and Southern Hemisphere DataFrames\n",
    "\n",
    "weather_data[\"Hemisphere\"] = \"\"\n",
    "for i in range(len(weather_data)):\n",
    "    if weather_data[\"lat\"][i] > 0:\n",
    "        weather_data[\"Hemisphere\"][i] = \"Northern\"\n",
    "    elif weather_data[\"lat\"][i] < 0:\n",
    "        weather_data[\"Hemisphere\"][i] = \"Southern\"\n",
    "    else:\n",
    "        weather_data[\"Hemisphere\"][i] = \"Equator\"\n",
    "\n",
    "northern_df = pd.DataFrame(weather_data.loc[weather_data[\"Hemisphere\"] == \"Northern\",])\n",
    "southern_df = pd.DataFrame(weather_data.loc[weather_data[\"Hemisphere\"] == \"Southern\",])\n"
   ]
  },
  {
   "cell_type": "markdown",
   "metadata": {},
   "source": [
    "####  Northern Hemisphere - Max Temp vs. Latitude Linear Regression"
   ]
  },
  {
   "cell_type": "code",
   "execution_count": 15,
   "metadata": {},
   "outputs": [
    {
     "data": {
      "image/png": "[encoded data removed]",
      "text/plain": [
       "<Figure size 432x288 with 1 Axes>"
      ]
     },
     "metadata": {
      "needs_background": "light"
     },
     "output_type": "display_data"
    }
   ],
   "source": [
    "# Build a scatter plot for each Latitude and Max Temp (Northern Hemisphere)\n",
    "plt.scatter(northern_df[\"lat\"], northern_df[\"temp_max\"], marker=\"o\")\n",
    "\n",
    "# Incorporate the other graph properties\n",
    "plt.title(\"Temperature Across Cities - Northern Hemisphere\")\n",
    "plt.ylabel(\"Temperature (Celsius)\")\n",
    "plt.xlabel(\"Latitude\")\n",
    "plt.grid(True)\n",
    "\n",
    "# Save the figure\n",
    "plt.savefig(\"output_data/NorthernTemperatureAcrossCities.png\")\n",
    "\n",
    "# Show plot\n",
    "plt.show()"
   ]
  },
  {
   "cell_type": "markdown",
   "metadata": {},
   "source": [
    "####  Southern Hemisphere - Max Temp vs. Latitude Linear Regression"
   ]
  },
  {
   "cell_type": "code",
   "execution_count": 16,
   "metadata": {},
   "outputs": [
    {
     "data": {
      "image/png": "[encoded data removed]",
      "text/plain": [
       "<Figure size 432x288 with 1 Axes>"
      ]
     },
     "metadata": {
      "needs_background": "light"
     },
     "output_type": "display_data"
    }
   ],
   "source": [
    "# Build a scatter plot for each Latitude and Max Temp  (Southern Hemisphere)\n",
    "plt.scatter(southern_df[\"lat\"], southern_df[\"temp_max\"], marker=\"o\")\n",
    "\n",
    "# Incorporate the other graph properties\n",
    "plt.title(\"Temperature Across Cities - Southern Hemisphere\")\n",
    "plt.ylabel(\"Temperature (Celsius)\")\n",
    "plt.xlabel(\"Latitude\")\n",
    "plt.grid(True)\n",
    "\n",
    "# Save the figure\n",
    "plt.savefig(\"output_data/SouthernTemperatureAcrossCities.png\")\n",
    "\n",
    "# Show plot\n",
    "plt.show()"
   ]
  },
  {
   "cell_type": "markdown",
   "metadata": {},
   "source": [
    "####  Northern Hemisphere - Humidity (%) vs. Latitude Linear Regression"
   ]
  },
  {
   "cell_type": "code",
   "execution_count": 17,
   "metadata": {},
   "outputs": [
    {
     "data": {
      "image/png": "[encoded data removed]",
      "text/plain": [
       "<Figure size 432x288 with 1 Axes>"
      ]
     },
     "metadata": {
      "needs_background": "light"
     },
     "output_type": "display_data"
    }
   ],
   "source": [
    "# Build a scatter plot for Latitude and Humidity (Northern Hemisphere)\n",
    "plt.scatter(northern_df[\"lat\"], northern_df[\"humidity\"], marker=\"o\")\n",
    "\n",
    "# Incorporate the other graph properties\n",
    "plt.title(\"Humidity Across Cities - Northern Hemisphere\")\n",
    "plt.ylabel(\"Humidity\")\n",
    "plt.xlabel(\"Latitude\")\n",
    "plt.grid(True)\n",
    "\n",
    "# Save the figure\n",
    "plt.savefig(\"output_data/NorthernHumidityAcrossCities.png\")\n",
    "\n",
    "# Show plot\n",
    "plt.show()"
   ]
  },
  {
   "cell_type": "markdown",
   "metadata": {},
   "source": [
    "####  Southern Hemisphere - Humidity (%) vs. Latitude Linear Regression"
   ]
  },
  {
   "cell_type": "code",
   "execution_count": 18,
   "metadata": {},
   "outputs": [
    {
     "data": {
      "image/png": "[encoded data removed]",
      "text/plain": [
       "<Figure size 432x288 with 1 Axes>"
      ]
     },
     "metadata": {
      "needs_background": "light"
     },
     "output_type": "display_data"
    }
   ],
   "source": [
    "# Build a scatter plot for Latitude and Humidity (Southern Hemisphere)\n",
    "plt.scatter(southern_df[\"lat\"], southern_df[\"humidity\"], marker=\"o\")\n",
    "\n",
    "# Incorporate the other graph properties\n",
    "plt.title(\"Humidity Across Cities - Southern Hemisphere\")\n",
    "plt.ylabel(\"Humidity\")\n",
    "plt.xlabel(\"Latitude\")\n",
    "plt.grid(True)\n",
    "\n",
    "# Save the figure\n",
    "plt.savefig(\"output_data/SouthernHumidityAcrossCities.png\")\n",
    "\n",
    "# Show plot\n",
    "plt.show()"
   ]
  },
  {
   "cell_type": "markdown",
   "metadata": {},
   "source": [
    "####  Northern Hemisphere - Cloudiness (%) vs. Latitude Linear Regression"
   ]
  },
  {
   "cell_type": "code",
   "execution_count": 19,
   "metadata": {},
   "outputs": [
    {
     "data": {
      "image/png": "[encoded data removed]",
      "text/plain": [
       "<Figure size 432x288 with 1 Axes>"
      ]
     },
     "metadata": {
      "needs_background": "light"
     },
     "output_type": "display_data"
    }
   ],
   "source": [
    "# Build a scatter plot for Latitude and Cloudiness (Northern Hemisphere)\n",
    "plt.scatter(northern_df[\"lat\"], northern_df[\"clouds\"], marker=\"o\")\n",
    "\n",
    "# Incorporate the other graph properties\n",
    "plt.title(\"Cloudiness Across Cities - Northern Hemisphere\")\n",
    "plt.ylabel(\"Cloudiness\")\n",
    "plt.xlabel(\"Latitude\")\n",
    "plt.grid(True)\n",
    "\n",
    "# Save the figure\n",
    "plt.savefig(\"output_data/NorthernCloudinessAcrossCities.png\")\n",
    "\n",
    "# Show plot\n",
    "plt.show()"
   ]
  },
  {
   "cell_type": "markdown",
   "metadata": {},
   "source": [
    "####  Southern Hemisphere - Cloudiness (%) vs. Latitude Linear Regression"
   ]
  },
  {
   "cell_type": "code",
   "execution_count": 20,
   "metadata": {},
   "outputs": [
    {
     "data": {
      "image/png": "[encoded data removed]",
      "text/plain": [
       "<Figure size 432x288 with 1 Axes>"
      ]
     },
     "metadata": {
      "needs_background": "light"
     },
     "output_type": "display_data"
    }
   ],
   "source": [
    "# Build a scatter plot for Latitude and Cloudiness (Southern Hemisphere)\n",
    "plt.scatter(southern_df[\"lat\"], southern_df[\"clouds\"], marker=\"o\")\n",
    "\n",
    "# Incorporate the other graph properties\n",
    "plt.title(\"Cloudiness Across Cities - Southern Hemisphere\")\n",
    "plt.ylabel(\"Cloudiness\")\n",
    "plt.xlabel(\"Latitude\")\n",
    "plt.grid(True)\n",
    "\n",
    "# Save the figure\n",
    "plt.savefig(\"output_data/SouthernCloudinessAcrossCities.png\")\n",
    "\n",
    "# Show plot\n",
    "plt.show()"
   ]
  },
  {
   "cell_type": "markdown",
   "metadata": {},
   "source": [
    "####  Northern Hemisphere - Wind Speed (mph) vs. Latitude Linear Regression"
   ]
  },
  {
   "cell_type": "code",
   "execution_count": 21,
   "metadata": {},
   "outputs": [
    {
     "data": {
      "image/png": "[encoded data removed]",
      "text/plain": [
       "<Figure size 432x288 with 1 Axes>"
      ]
     },
     "metadata": {
      "needs_background": "light"
     },
     "output_type": "display_data"
    }
   ],
   "source": [
    "# Build a scatter plot for Latitude and Windspeed (Northern Hemisphere)\n",
    "plt.scatter(northern_df[\"lat\"], northern_df[\"windspeed\"], marker=\"o\")\n",
    "\n",
    "# Incorporate the other graph properties\n",
    "plt.title(\"Windspeed Across Cities - Northern Hemisphere\")\n",
    "plt.ylabel(\"Windiness\")\n",
    "plt.xlabel(\"Latitude\")\n",
    "plt.grid(True)\n",
    "\n",
    "# Save the figure\n",
    "plt.savefig(\"output_data/WindinessAcrossCities.png\")\n",
    "\n",
    "# Show plot\n",
    "plt.show()"
   ]
  },
  {
   "cell_type": "markdown",
   "metadata": {},
   "source": [
    "####  Southern Hemisphere - Wind Speed (mph) vs. Latitude Linear Regression"
   ]
  },
  {
   "cell_type": "code",
   "execution_count": 22,
   "metadata": {},
   "outputs": [
    {
     "data": {
      "image/png": "[encoded data removed]",
      "text/plain": [
       "<Figure size 432x288 with 1 Axes>"
      ]
     },
     "metadata": {
      "needs_background": "light"
     },
     "output_type": "display_data"
    }
   ],
   "source": [
    "# Build a scatter plot for Latitude and Windspeed (Southern Hemisphere)\n",
    "plt.scatter(southern_df[\"lat\"], southern_df[\"windspeed\"], marker=\"o\")\n",
    "\n",
    "# Incorporate the other graph properties\n",
    "plt.title(\"Windspeed Across Cities - Southern Hemisphere\")\n",
    "plt.ylabel(\"Windiness\")\n",
    "plt.xlabel(\"Latitude\")\n",
    "plt.grid(True)\n",
    "\n",
    "# Save the figure\n",
    "plt.savefig(\"output_data/WindinessAcrossCities.png\")\n",
    "\n",
    "# Show plot\n",
    "plt.show()"
   ]
  },
  {
   "cell_type": "code",
   "execution_count": null,
   "metadata": {},
   "outputs": [],
   "source": []
  }
 ],
 "metadata": {
  "anaconda-cloud": {},
  "kernel_info": {
   "name": "python3"
  },
  "kernelspec": {
   "display_name": "Python 3",
   "language": "python",
   "name": "python3"
  },
  "language_info": {
   "codemirror_mode": {
    "name": "ipython",
    "version": 3
   },
   "file_extension": ".py",
   "mimetype": "text/x-python",
   "name": "python",
   "nbconvert_exporter": "python",
   "pygments_lexer": "ipython3",
   "version": "3.7.6"
  },
  "latex_envs": {
   "LaTeX_envs_menu_present": true,
   "autoclose": false,
   "autocomplete": true,
   "bibliofile": "biblio.bib",
   "cite_by": "apalike",
   "current_citInitial": 1,
   "eqLabelWithNumbers": true,
   "eqNumInitial": 1,
   "hotkeys": {
    "equation": "Ctrl-E",
    "itemize": "Ctrl-I"
   },
   "labels_anchors": false,
   "latex_user_defs": false,
   "report_style_numbering": false,
   "user_envs_cfg": false
  },
  "nteract": {
   "version": "0.12.3"
  }
 },
 "nbformat": 4,
 "nbformat_minor": 2
}
